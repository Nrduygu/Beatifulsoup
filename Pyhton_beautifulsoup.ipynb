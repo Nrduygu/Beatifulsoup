{
 "metadata": {
  "language_info": {
   "codemirror_mode": {
    "name": "ipython",
    "version": 3
   },
   "file_extension": ".py",
   "mimetype": "text/x-python",
   "name": "python",
   "nbconvert_exporter": "python",
   "pygments_lexer": "ipython3",
   "version": "3.8.3-final"
  },
  "orig_nbformat": 2,
  "kernelspec": {
   "name": "python3",
   "display_name": "Python 3.8.3 64-bit (conda)",
   "metadata": {
    "interpreter": {
     "hash": "90a158c98ef0544e30e1c71e374f81472ef47428bbdf2acb032d25954a494de6"
    }
   }
  }
 },
 "nbformat": 4,
 "nbformat_minor": 2,
 "cells": [
  {
   "source": [
    "# BEATIFULSOUP"
   ],
   "cell_type": "markdown",
   "metadata": {}
  },
  {
   "cell_type": "code",
   "execution_count": null,
   "metadata": {},
   "outputs": [],
   "source": [
    "import requests\n",
    "from bs4 import BeautifulSoup\n",
    "import pandas as pd\n",
    " \n",
    "url = \"https://www.worldometers.info/world-population/us-population/\"\n",
    "page = requests.get(url)\n",
    "soup = BeautifulSoup(page.text, 'lxml')\n",
    " \n",
    "table = soup.find(\"table\", {\"class\":\"table table-striped table-bordered table-hover table-condensed table-list\"})\n",
    " \n",
    "headers = []\n",
    " \n",
    "for i in table.find_all(\"th\"):\n",
    "    title = i.text\n",
    "    headers.append(title)\n",
    " \n",
    "df = pd.DataFrame(columns=headers)\n",
    " \n",
    "for row in table.find_all(\"tr\")[1:]:\n",
    "    data = row.find_all(\"td\")\n",
    "    row_data = [td.text.strip() for td in data]\n",
    "    length = len(df)\n",
    "    df.loc[length] = row_data"
   ]
  },
  {
   "cell_type": "code",
   "execution_count": null,
   "metadata": {},
   "outputs": [],
   "source": [
    "# TABLE DATA COPY BY USING CLIPBOARD COMMAND"
   ]
  },
  {
   "cell_type": "code",
   "execution_count": 4,
   "metadata": {},
   "outputs": [],
   "source": [
    "import numpy as np\n",
    "import matplotlib.pyplot as plt\n",
    "import pandas as pd\n"
   ]
  },
  {
   "cell_type": "code",
   "execution_count": 5,
   "metadata": {},
   "outputs": [],
   "source": [
    "deneme = pd.read_clipboard() "
   ]
  },
  {
   "cell_type": "code",
   "execution_count": 6,
   "metadata": {},
   "outputs": [
    {
     "output_type": "execute_result",
     "data": {
      "text/plain": [
       "            Tarih Toplam Test Sayısı Toplam Vaka Sayısı  Toplam Vefat Sayısı  \\\n",
       "0    18 MART 2021         35.787.480          2.950.603               29.777   \n",
       "1    17 MART 2021         35.603.028          2.930.554               29.696   \n",
       "2    16 MART 2021         35.435.502          2.911.642               29.623   \n",
       "3    15 MART 2021         35.277.116          2.894.893               29.552   \n",
       "4    14 MART 2021         35.126.003          2.879.390               29.489   \n",
       "..            ...                ...                ...                  ...   \n",
       "368  15 MART 2020                NaN                 18                  NaN   \n",
       "369  14 MART 2020                NaN                  6                  NaN   \n",
       "370  13 MART 2020                NaN                  5                  NaN   \n",
       "371  12 MART 2020                NaN                  1                  NaN   \n",
       "372  11 MART 2020                NaN                  1                  NaN   \n",
       "\n",
       "    Hastalarda Zatürre Oranı (%)  Ağır Hasta Sayısı  \\\n",
       "0                            3,2              1.503   \n",
       "1                            3,2              1.484   \n",
       "2                            3,2              1.474   \n",
       "3                            3,2              1.425   \n",
       "4                            3,8              1.392   \n",
       "..                           ...                ...   \n",
       "368                          NaN                NaN   \n",
       "369                          NaN                NaN   \n",
       "370                          NaN                NaN   \n",
       "371                          NaN                NaN   \n",
       "372                          NaN                NaN   \n",
       "\n",
       "    Toplam İyileşen Hasta Sayısı  Bugünkü Hasta Sayısı  Bugünkü Test Sayısı  \\\n",
       "0                      2.770.638                 902.0              184.452   \n",
       "1                      2.752.023                 869.0              167.526   \n",
       "2                      2.734.862                 874.0              158.386   \n",
       "3                      2.716.969                 858.0              151.113   \n",
       "4                      2.701.076                 852.0              132.425   \n",
       "..                           ...                   ...                  ...   \n",
       "368                          NaN                   NaN                  NaN   \n",
       "369                          NaN                   NaN                  NaN   \n",
       "370                          NaN                   NaN                  NaN   \n",
       "371                          NaN                   NaN                  NaN   \n",
       "372                          NaN                   NaN                  NaN   \n",
       "\n",
       "     Bugünkü Vefat Sayısı  Bugünkü İyileşen Sayısı  \n",
       "0                    81.0                   18.615  \n",
       "1                    73.0                   17.161  \n",
       "2                    71.0                   17.893  \n",
       "3                    63.0                   15.893  \n",
       "4                    68.0                   15.516  \n",
       "..                    ...                      ...  \n",
       "368                   NaN                      NaN  \n",
       "369                   NaN                      NaN  \n",
       "370                   NaN                      NaN  \n",
       "371                   NaN                      NaN  \n",
       "372                   NaN                      NaN  \n",
       "\n",
       "[373 rows x 11 columns]"
      ],
      "text/html": "<div>\n<style scoped>\n    .dataframe tbody tr th:only-of-type {\n        vertical-align: middle;\n    }\n\n    .dataframe tbody tr th {\n        vertical-align: top;\n    }\n\n    .dataframe thead th {\n        text-align: right;\n    }\n</style>\n<table border=\"1\" class=\"dataframe\">\n  <thead>\n    <tr style=\"text-align: right;\">\n      <th></th>\n      <th>Tarih</th>\n      <th>Toplam Test Sayısı</th>\n      <th>Toplam Vaka Sayısı</th>\n      <th>Toplam Vefat Sayısı</th>\n      <th>Hastalarda Zatürre Oranı (%)</th>\n      <th>Ağır Hasta Sayısı</th>\n      <th>Toplam İyileşen Hasta Sayısı</th>\n      <th>Bugünkü Hasta Sayısı</th>\n      <th>Bugünkü Test Sayısı</th>\n      <th>Bugünkü Vefat Sayısı</th>\n      <th>Bugünkü İyileşen Sayısı</th>\n    </tr>\n  </thead>\n  <tbody>\n    <tr>\n      <th>0</th>\n      <td>18 MART 2021</td>\n      <td>35.787.480</td>\n      <td>2.950.603</td>\n      <td>29.777</td>\n      <td>3,2</td>\n      <td>1.503</td>\n      <td>2.770.638</td>\n      <td>902.0</td>\n      <td>184.452</td>\n      <td>81.0</td>\n      <td>18.615</td>\n    </tr>\n    <tr>\n      <th>1</th>\n      <td>17 MART 2021</td>\n      <td>35.603.028</td>\n      <td>2.930.554</td>\n      <td>29.696</td>\n      <td>3,2</td>\n      <td>1.484</td>\n      <td>2.752.023</td>\n      <td>869.0</td>\n      <td>167.526</td>\n      <td>73.0</td>\n      <td>17.161</td>\n    </tr>\n    <tr>\n      <th>2</th>\n      <td>16 MART 2021</td>\n      <td>35.435.502</td>\n      <td>2.911.642</td>\n      <td>29.623</td>\n      <td>3,2</td>\n      <td>1.474</td>\n      <td>2.734.862</td>\n      <td>874.0</td>\n      <td>158.386</td>\n      <td>71.0</td>\n      <td>17.893</td>\n    </tr>\n    <tr>\n      <th>3</th>\n      <td>15 MART 2021</td>\n      <td>35.277.116</td>\n      <td>2.894.893</td>\n      <td>29.552</td>\n      <td>3,2</td>\n      <td>1.425</td>\n      <td>2.716.969</td>\n      <td>858.0</td>\n      <td>151.113</td>\n      <td>63.0</td>\n      <td>15.893</td>\n    </tr>\n    <tr>\n      <th>4</th>\n      <td>14 MART 2021</td>\n      <td>35.126.003</td>\n      <td>2.879.390</td>\n      <td>29.489</td>\n      <td>3,8</td>\n      <td>1.392</td>\n      <td>2.701.076</td>\n      <td>852.0</td>\n      <td>132.425</td>\n      <td>68.0</td>\n      <td>15.516</td>\n    </tr>\n    <tr>\n      <th>...</th>\n      <td>...</td>\n      <td>...</td>\n      <td>...</td>\n      <td>...</td>\n      <td>...</td>\n      <td>...</td>\n      <td>...</td>\n      <td>...</td>\n      <td>...</td>\n      <td>...</td>\n      <td>...</td>\n    </tr>\n    <tr>\n      <th>368</th>\n      <td>15 MART 2020</td>\n      <td>NaN</td>\n      <td>18</td>\n      <td>NaN</td>\n      <td>NaN</td>\n      <td>NaN</td>\n      <td>NaN</td>\n      <td>NaN</td>\n      <td>NaN</td>\n      <td>NaN</td>\n      <td>NaN</td>\n    </tr>\n    <tr>\n      <th>369</th>\n      <td>14 MART 2020</td>\n      <td>NaN</td>\n      <td>6</td>\n      <td>NaN</td>\n      <td>NaN</td>\n      <td>NaN</td>\n      <td>NaN</td>\n      <td>NaN</td>\n      <td>NaN</td>\n      <td>NaN</td>\n      <td>NaN</td>\n    </tr>\n    <tr>\n      <th>370</th>\n      <td>13 MART 2020</td>\n      <td>NaN</td>\n      <td>5</td>\n      <td>NaN</td>\n      <td>NaN</td>\n      <td>NaN</td>\n      <td>NaN</td>\n      <td>NaN</td>\n      <td>NaN</td>\n      <td>NaN</td>\n      <td>NaN</td>\n    </tr>\n    <tr>\n      <th>371</th>\n      <td>12 MART 2020</td>\n      <td>NaN</td>\n      <td>1</td>\n      <td>NaN</td>\n      <td>NaN</td>\n      <td>NaN</td>\n      <td>NaN</td>\n      <td>NaN</td>\n      <td>NaN</td>\n      <td>NaN</td>\n      <td>NaN</td>\n    </tr>\n    <tr>\n      <th>372</th>\n      <td>11 MART 2020</td>\n      <td>NaN</td>\n      <td>1</td>\n      <td>NaN</td>\n      <td>NaN</td>\n      <td>NaN</td>\n      <td>NaN</td>\n      <td>NaN</td>\n      <td>NaN</td>\n      <td>NaN</td>\n      <td>NaN</td>\n    </tr>\n  </tbody>\n</table>\n<p>373 rows × 11 columns</p>\n</div>"
     },
     "metadata": {},
     "execution_count": 6
    }
   ],
   "source": [
    "deneme"
   ]
  },
  {
   "cell_type": "code",
   "execution_count": 7,
   "metadata": {},
   "outputs": [
    {
     "output_type": "execute_result",
     "data": {
      "text/plain": [
       "'c:\\\\Users\\\\duygu.keten\\\\Desktop\\\\M&E_Dosya\\\\Pyhton_deneme'"
      ]
     },
     "metadata": {},
     "execution_count": 7
    }
   ],
   "source": [
    "pwd"
   ]
  },
  {
   "cell_type": "code",
   "execution_count": 8,
   "metadata": {},
   "outputs": [],
   "source": [
    "deneme.to_excel(\"COVID.xlsx\")"
   ]
  },
  {
   "cell_type": "code",
   "execution_count": null,
   "metadata": {},
   "outputs": [],
   "source": []
  }
 ]
}